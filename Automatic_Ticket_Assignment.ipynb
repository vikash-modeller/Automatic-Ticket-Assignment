{
 "cells": [
  {
   "cell_type": "code",
   "execution_count": null,
   "id": "8935d669",
   "metadata": {},
   "outputs": [],
   "source": []
  },
  {
   "cell_type": "code",
   "execution_count": null,
   "id": "c0c92780",
   "metadata": {},
   "outputs": [],
   "source": []
  },
  {
   "cell_type": "markdown",
   "id": "a22d22f3",
   "metadata": {},
   "source": [
    "# Automatic Ticket Assignment"
   ]
  },
  {
   "cell_type": "markdown",
   "id": "3f0099fb",
   "metadata": {},
   "source": [
    "# EDA"
   ]
  },
  {
   "cell_type": "code",
   "execution_count": 1,
   "id": "b8cdeb1b",
   "metadata": {},
   "outputs": [],
   "source": [
    "import pandas as pd\n",
    "import matplotlib.pyplot as plt\n",
    "import seaborn as sns\n",
    "import numpy as np"
   ]
  },
  {
   "cell_type": "code",
   "execution_count": 2,
   "id": "1a9a3821",
   "metadata": {},
   "outputs": [],
   "source": [
    "incident = pd.read_excel('input_data.xlsx')"
   ]
  },
  {
   "cell_type": "code",
   "execution_count": 3,
   "id": "5b495ac2",
   "metadata": {},
   "outputs": [
    {
     "data": {
      "text/html": [
       "<div>\n",
       "<style scoped>\n",
       "    .dataframe tbody tr th:only-of-type {\n",
       "        vertical-align: middle;\n",
       "    }\n",
       "\n",
       "    .dataframe tbody tr th {\n",
       "        vertical-align: top;\n",
       "    }\n",
       "\n",
       "    .dataframe thead th {\n",
       "        text-align: right;\n",
       "    }\n",
       "</style>\n",
       "<table border=\"1\" class=\"dataframe\">\n",
       "  <thead>\n",
       "    <tr style=\"text-align: right;\">\n",
       "      <th></th>\n",
       "      <th>Short description</th>\n",
       "      <th>Description</th>\n",
       "      <th>Caller</th>\n",
       "      <th>Assignment group</th>\n",
       "    </tr>\n",
       "  </thead>\n",
       "  <tbody>\n",
       "    <tr>\n",
       "      <th>0</th>\n",
       "      <td>login issue</td>\n",
       "      <td>-verified user details.(employee# &amp; manager na...</td>\n",
       "      <td>spxjnwir pjlcoqds</td>\n",
       "      <td>GRP_0</td>\n",
       "    </tr>\n",
       "    <tr>\n",
       "      <th>1</th>\n",
       "      <td>outlook</td>\n",
       "      <td>_x000D_\\n_x000D_\\nreceived from: hmjdrvpb.komu...</td>\n",
       "      <td>hmjdrvpb komuaywn</td>\n",
       "      <td>GRP_0</td>\n",
       "    </tr>\n",
       "    <tr>\n",
       "      <th>2</th>\n",
       "      <td>cant log in to vpn</td>\n",
       "      <td>_x000D_\\n_x000D_\\nreceived from: eylqgodm.ybqk...</td>\n",
       "      <td>eylqgodm ybqkwiam</td>\n",
       "      <td>GRP_0</td>\n",
       "    </tr>\n",
       "    <tr>\n",
       "      <th>3</th>\n",
       "      <td>unable to access hr_tool page</td>\n",
       "      <td>unable to access hr_tool page</td>\n",
       "      <td>xbkucsvz gcpydteq</td>\n",
       "      <td>GRP_0</td>\n",
       "    </tr>\n",
       "    <tr>\n",
       "      <th>4</th>\n",
       "      <td>skype error</td>\n",
       "      <td>skype error</td>\n",
       "      <td>owlgqjme qhcozdfx</td>\n",
       "      <td>GRP_0</td>\n",
       "    </tr>\n",
       "  </tbody>\n",
       "</table>\n",
       "</div>"
      ],
      "text/plain": [
       "               Short description  \\\n",
       "0                    login issue   \n",
       "1                        outlook   \n",
       "2             cant log in to vpn   \n",
       "3  unable to access hr_tool page   \n",
       "4                   skype error    \n",
       "\n",
       "                                         Description             Caller  \\\n",
       "0  -verified user details.(employee# & manager na...  spxjnwir pjlcoqds   \n",
       "1  _x000D_\\n_x000D_\\nreceived from: hmjdrvpb.komu...  hmjdrvpb komuaywn   \n",
       "2  _x000D_\\n_x000D_\\nreceived from: eylqgodm.ybqk...  eylqgodm ybqkwiam   \n",
       "3                      unable to access hr_tool page  xbkucsvz gcpydteq   \n",
       "4                                       skype error   owlgqjme qhcozdfx   \n",
       "\n",
       "  Assignment group  \n",
       "0            GRP_0  \n",
       "1            GRP_0  \n",
       "2            GRP_0  \n",
       "3            GRP_0  \n",
       "4            GRP_0  "
      ]
     },
     "execution_count": 3,
     "metadata": {},
     "output_type": "execute_result"
    }
   ],
   "source": [
    "incident.head()"
   ]
  },
  {
   "cell_type": "code",
   "execution_count": 4,
   "id": "ca51b2b0",
   "metadata": {},
   "outputs": [
    {
     "data": {
      "text/plain": [
       "(8500, 4)"
      ]
     },
     "execution_count": 4,
     "metadata": {},
     "output_type": "execute_result"
    }
   ],
   "source": [
    "incident.shape"
   ]
  },
  {
   "cell_type": "code",
   "execution_count": 5,
   "id": "089a5890",
   "metadata": {},
   "outputs": [
    {
     "data": {
      "text/html": [
       "<div>\n",
       "<style scoped>\n",
       "    .dataframe tbody tr th:only-of-type {\n",
       "        vertical-align: middle;\n",
       "    }\n",
       "\n",
       "    .dataframe tbody tr th {\n",
       "        vertical-align: top;\n",
       "    }\n",
       "\n",
       "    .dataframe thead th {\n",
       "        text-align: right;\n",
       "    }\n",
       "</style>\n",
       "<table border=\"1\" class=\"dataframe\">\n",
       "  <thead>\n",
       "    <tr style=\"text-align: right;\">\n",
       "      <th></th>\n",
       "      <th>count</th>\n",
       "      <th>unique</th>\n",
       "      <th>top</th>\n",
       "      <th>freq</th>\n",
       "    </tr>\n",
       "  </thead>\n",
       "  <tbody>\n",
       "    <tr>\n",
       "      <th>Short description</th>\n",
       "      <td>8492</td>\n",
       "      <td>7481</td>\n",
       "      <td>password reset</td>\n",
       "      <td>38</td>\n",
       "    </tr>\n",
       "    <tr>\n",
       "      <th>Description</th>\n",
       "      <td>8499</td>\n",
       "      <td>7817</td>\n",
       "      <td>the</td>\n",
       "      <td>56</td>\n",
       "    </tr>\n",
       "    <tr>\n",
       "      <th>Caller</th>\n",
       "      <td>8500</td>\n",
       "      <td>2950</td>\n",
       "      <td>bpctwhsn kzqsbmtp</td>\n",
       "      <td>810</td>\n",
       "    </tr>\n",
       "    <tr>\n",
       "      <th>Assignment group</th>\n",
       "      <td>8500</td>\n",
       "      <td>74</td>\n",
       "      <td>GRP_0</td>\n",
       "      <td>3976</td>\n",
       "    </tr>\n",
       "  </tbody>\n",
       "</table>\n",
       "</div>"
      ],
      "text/plain": [
       "                  count unique                top  freq\n",
       "Short description  8492   7481     password reset    38\n",
       "Description        8499   7817                the    56\n",
       "Caller             8500   2950  bpctwhsn kzqsbmtp   810\n",
       "Assignment group   8500     74              GRP_0  3976"
      ]
     },
     "execution_count": 5,
     "metadata": {},
     "output_type": "execute_result"
    }
   ],
   "source": [
    "incident.describe().transpose()"
   ]
  },
  {
   "cell_type": "code",
   "execution_count": 6,
   "id": "d3cef5d3",
   "metadata": {},
   "outputs": [
    {
     "name": "stdout",
     "output_type": "stream",
     "text": [
      "<class 'pandas.core.frame.DataFrame'>\n",
      "RangeIndex: 8500 entries, 0 to 8499\n",
      "Data columns (total 4 columns):\n",
      " #   Column             Non-Null Count  Dtype \n",
      "---  ------             --------------  ----- \n",
      " 0   Short description  8492 non-null   object\n",
      " 1   Description        8499 non-null   object\n",
      " 2   Caller             8500 non-null   object\n",
      " 3   Assignment group   8500 non-null   object\n",
      "dtypes: object(4)\n",
      "memory usage: 265.8+ KB\n"
     ]
    }
   ],
   "source": [
    "incident.info()"
   ]
  },
  {
   "cell_type": "markdown",
   "id": "d33da749",
   "metadata": {},
   "source": [
    "**Inferece:-**\n",
    "\n",
    "- We have total 8500 records with 4 columns\n",
    "- Assignement group being the target column \n",
    "- From **describe** & **info** output we are able to indentify we null values in **Short description** & **Description** column"
   ]
  },
  {
   "cell_type": "code",
   "execution_count": 7,
   "id": "06aba073",
   "metadata": {},
   "outputs": [
    {
     "data": {
      "text/plain": [
       "Short description    8\n",
       "Description          1\n",
       "Caller               0\n",
       "Assignment group     0\n",
       "dtype: int64"
      ]
     },
     "execution_count": 7,
     "metadata": {},
     "output_type": "execute_result"
    }
   ],
   "source": [
    "incident.isnull().sum()"
   ]
  },
  {
   "cell_type": "code",
   "execution_count": 8,
   "id": "b776f115",
   "metadata": {},
   "outputs": [
    {
     "data": {
      "text/html": [
       "<div>\n",
       "<style scoped>\n",
       "    .dataframe tbody tr th:only-of-type {\n",
       "        vertical-align: middle;\n",
       "    }\n",
       "\n",
       "    .dataframe tbody tr th {\n",
       "        vertical-align: top;\n",
       "    }\n",
       "\n",
       "    .dataframe thead th {\n",
       "        text-align: right;\n",
       "    }\n",
       "</style>\n",
       "<table border=\"1\" class=\"dataframe\">\n",
       "  <thead>\n",
       "    <tr style=\"text-align: right;\">\n",
       "      <th></th>\n",
       "      <th>Short description</th>\n",
       "      <th>Description</th>\n",
       "      <th>Caller</th>\n",
       "      <th>Assignment group</th>\n",
       "    </tr>\n",
       "  </thead>\n",
       "  <tbody>\n",
       "    <tr>\n",
       "      <th>2604</th>\n",
       "      <td>NaN</td>\n",
       "      <td>_x000D_\\n_x000D_\\nreceived from: ohdrnswl.rezu...</td>\n",
       "      <td>ohdrnswl rezuibdt</td>\n",
       "      <td>GRP_34</td>\n",
       "    </tr>\n",
       "    <tr>\n",
       "      <th>3383</th>\n",
       "      <td>NaN</td>\n",
       "      <td>_x000D_\\n-connected to the user system using t...</td>\n",
       "      <td>qftpazns fxpnytmk</td>\n",
       "      <td>GRP_0</td>\n",
       "    </tr>\n",
       "    <tr>\n",
       "      <th>3906</th>\n",
       "      <td>NaN</td>\n",
       "      <td>-user unable  tologin to vpn._x000D_\\n-connect...</td>\n",
       "      <td>awpcmsey ctdiuqwe</td>\n",
       "      <td>GRP_0</td>\n",
       "    </tr>\n",
       "    <tr>\n",
       "      <th>3910</th>\n",
       "      <td>NaN</td>\n",
       "      <td>-user unable  tologin to vpn._x000D_\\n-connect...</td>\n",
       "      <td>rhwsmefo tvphyura</td>\n",
       "      <td>GRP_0</td>\n",
       "    </tr>\n",
       "    <tr>\n",
       "      <th>3915</th>\n",
       "      <td>NaN</td>\n",
       "      <td>-user unable  tologin to vpn._x000D_\\n-connect...</td>\n",
       "      <td>hxripljo efzounig</td>\n",
       "      <td>GRP_0</td>\n",
       "    </tr>\n",
       "    <tr>\n",
       "      <th>3921</th>\n",
       "      <td>NaN</td>\n",
       "      <td>-user unable  tologin to vpn._x000D_\\n-connect...</td>\n",
       "      <td>cziadygo veiosxby</td>\n",
       "      <td>GRP_0</td>\n",
       "    </tr>\n",
       "    <tr>\n",
       "      <th>3924</th>\n",
       "      <td>NaN</td>\n",
       "      <td>name:wvqgbdhm fwchqjor\\nlanguage:\\nbrowser:mic...</td>\n",
       "      <td>wvqgbdhm fwchqjor</td>\n",
       "      <td>GRP_0</td>\n",
       "    </tr>\n",
       "    <tr>\n",
       "      <th>4341</th>\n",
       "      <td>NaN</td>\n",
       "      <td>_x000D_\\n_x000D_\\nreceived from: eqmuniov.ehxk...</td>\n",
       "      <td>eqmuniov ehxkcbgj</td>\n",
       "      <td>GRP_0</td>\n",
       "    </tr>\n",
       "  </tbody>\n",
       "</table>\n",
       "</div>"
      ],
      "text/plain": [
       "     Short description                                        Description  \\\n",
       "2604               NaN  _x000D_\\n_x000D_\\nreceived from: ohdrnswl.rezu...   \n",
       "3383               NaN  _x000D_\\n-connected to the user system using t...   \n",
       "3906               NaN  -user unable  tologin to vpn._x000D_\\n-connect...   \n",
       "3910               NaN  -user unable  tologin to vpn._x000D_\\n-connect...   \n",
       "3915               NaN  -user unable  tologin to vpn._x000D_\\n-connect...   \n",
       "3921               NaN  -user unable  tologin to vpn._x000D_\\n-connect...   \n",
       "3924               NaN  name:wvqgbdhm fwchqjor\\nlanguage:\\nbrowser:mic...   \n",
       "4341               NaN  _x000D_\\n_x000D_\\nreceived from: eqmuniov.ehxk...   \n",
       "\n",
       "                 Caller Assignment group  \n",
       "2604  ohdrnswl rezuibdt           GRP_34  \n",
       "3383  qftpazns fxpnytmk            GRP_0  \n",
       "3906  awpcmsey ctdiuqwe            GRP_0  \n",
       "3910  rhwsmefo tvphyura            GRP_0  \n",
       "3915  hxripljo efzounig            GRP_0  \n",
       "3921  cziadygo veiosxby            GRP_0  \n",
       "3924  wvqgbdhm fwchqjor            GRP_0  \n",
       "4341  eqmuniov ehxkcbgj            GRP_0  "
      ]
     },
     "execution_count": 8,
     "metadata": {},
     "output_type": "execute_result"
    }
   ],
   "source": [
    "incident[incident['Short description'].isnull()]"
   ]
  },
  {
   "cell_type": "code",
   "execution_count": 9,
   "id": "fb57e391",
   "metadata": {},
   "outputs": [
    {
     "data": {
      "text/html": [
       "<div>\n",
       "<style scoped>\n",
       "    .dataframe tbody tr th:only-of-type {\n",
       "        vertical-align: middle;\n",
       "    }\n",
       "\n",
       "    .dataframe tbody tr th {\n",
       "        vertical-align: top;\n",
       "    }\n",
       "\n",
       "    .dataframe thead th {\n",
       "        text-align: right;\n",
       "    }\n",
       "</style>\n",
       "<table border=\"1\" class=\"dataframe\">\n",
       "  <thead>\n",
       "    <tr style=\"text-align: right;\">\n",
       "      <th></th>\n",
       "      <th>Short description</th>\n",
       "      <th>Description</th>\n",
       "      <th>Caller</th>\n",
       "      <th>Assignment group</th>\n",
       "    </tr>\n",
       "  </thead>\n",
       "  <tbody>\n",
       "    <tr>\n",
       "      <th>4395</th>\n",
       "      <td>i am locked out of skype</td>\n",
       "      <td>NaN</td>\n",
       "      <td>viyglzfo ajtfzpkb</td>\n",
       "      <td>GRP_0</td>\n",
       "    </tr>\n",
       "  </tbody>\n",
       "</table>\n",
       "</div>"
      ],
      "text/plain": [
       "             Short description Description             Caller Assignment group\n",
       "4395  i am locked out of skype         NaN  viyglzfo ajtfzpkb            GRP_0"
      ]
     },
     "execution_count": 9,
     "metadata": {},
     "output_type": "execute_result"
    }
   ],
   "source": [
    "incident[incident['Description'].isnull()]"
   ]
  },
  {
   "cell_type": "code",
   "execution_count": 10,
   "id": "be484366",
   "metadata": {},
   "outputs": [],
   "source": [
    "incident_details = incident.copy()"
   ]
  },
  {
   "cell_type": "markdown",
   "id": "8caa2071",
   "metadata": {},
   "source": [
    "**We have 9 null rows, considering the size of the dataset droping the null values**"
   ]
  },
  {
   "cell_type": "code",
   "execution_count": 11,
   "id": "a41504fb",
   "metadata": {},
   "outputs": [],
   "source": [
    "incident_details.dropna(inplace=True)"
   ]
  },
  {
   "cell_type": "code",
   "execution_count": 12,
   "id": "713fad08",
   "metadata": {},
   "outputs": [
    {
     "data": {
      "text/plain": [
       "Short description    0\n",
       "Description          0\n",
       "Caller               0\n",
       "Assignment group     0\n",
       "dtype: int64"
      ]
     },
     "execution_count": 12,
     "metadata": {},
     "output_type": "execute_result"
    }
   ],
   "source": [
    "incident_details.isnull().sum()"
   ]
  },
  {
   "cell_type": "markdown",
   "id": "be2e190b",
   "metadata": {},
   "source": [
    "**EDA - Target Column**"
   ]
  },
  {
   "cell_type": "code",
   "execution_count": 13,
   "id": "656f9131",
   "metadata": {},
   "outputs": [
    {
     "data": {
      "text/html": [
       "<div>\n",
       "<style scoped>\n",
       "    .dataframe tbody tr th:only-of-type {\n",
       "        vertical-align: middle;\n",
       "    }\n",
       "\n",
       "    .dataframe tbody tr th {\n",
       "        vertical-align: top;\n",
       "    }\n",
       "\n",
       "    .dataframe thead th {\n",
       "        text-align: right;\n",
       "    }\n",
       "</style>\n",
       "<table border=\"1\" class=\"dataframe\">\n",
       "  <thead>\n",
       "    <tr style=\"text-align: right;\">\n",
       "      <th></th>\n",
       "      <th>index</th>\n",
       "      <th>Assignment group</th>\n",
       "    </tr>\n",
       "  </thead>\n",
       "  <tbody>\n",
       "    <tr>\n",
       "      <th>0</th>\n",
       "      <td>GRP_0</td>\n",
       "      <td>3968</td>\n",
       "    </tr>\n",
       "    <tr>\n",
       "      <th>1</th>\n",
       "      <td>GRP_8</td>\n",
       "      <td>661</td>\n",
       "    </tr>\n",
       "    <tr>\n",
       "      <th>2</th>\n",
       "      <td>GRP_24</td>\n",
       "      <td>289</td>\n",
       "    </tr>\n",
       "    <tr>\n",
       "      <th>3</th>\n",
       "      <td>GRP_12</td>\n",
       "      <td>257</td>\n",
       "    </tr>\n",
       "    <tr>\n",
       "      <th>4</th>\n",
       "      <td>GRP_9</td>\n",
       "      <td>252</td>\n",
       "    </tr>\n",
       "    <tr>\n",
       "      <th>...</th>\n",
       "      <td>...</td>\n",
       "      <td>...</td>\n",
       "    </tr>\n",
       "    <tr>\n",
       "      <th>69</th>\n",
       "      <td>GRP_67</td>\n",
       "      <td>1</td>\n",
       "    </tr>\n",
       "    <tr>\n",
       "      <th>70</th>\n",
       "      <td>GRP_73</td>\n",
       "      <td>1</td>\n",
       "    </tr>\n",
       "    <tr>\n",
       "      <th>71</th>\n",
       "      <td>GRP_70</td>\n",
       "      <td>1</td>\n",
       "    </tr>\n",
       "    <tr>\n",
       "      <th>72</th>\n",
       "      <td>GRP_61</td>\n",
       "      <td>1</td>\n",
       "    </tr>\n",
       "    <tr>\n",
       "      <th>73</th>\n",
       "      <td>GRP_64</td>\n",
       "      <td>1</td>\n",
       "    </tr>\n",
       "  </tbody>\n",
       "</table>\n",
       "<p>74 rows × 2 columns</p>\n",
       "</div>"
      ],
      "text/plain": [
       "     index  Assignment group\n",
       "0    GRP_0              3968\n",
       "1    GRP_8               661\n",
       "2   GRP_24               289\n",
       "3   GRP_12               257\n",
       "4    GRP_9               252\n",
       "..     ...               ...\n",
       "69  GRP_67                 1\n",
       "70  GRP_73                 1\n",
       "71  GRP_70                 1\n",
       "72  GRP_61                 1\n",
       "73  GRP_64                 1\n",
       "\n",
       "[74 rows x 2 columns]"
      ]
     },
     "execution_count": 13,
     "metadata": {},
     "output_type": "execute_result"
    }
   ],
   "source": [
    "inc_ass_count = incident_details['Assignment group'].value_counts().reset_index()\n",
    "inc_ass_count"
   ]
  },
  {
   "cell_type": "markdown",
   "id": "8bf9ec60",
   "metadata": {},
   "source": [
    "**There are 74 unique records, display top and end 20 results**"
   ]
  },
  {
   "cell_type": "code",
   "execution_count": 14,
   "id": "8fb8be50",
   "metadata": {},
   "outputs": [
    {
     "data": {
      "text/plain": [
       "GRP_0     3968\n",
       "GRP_8      661\n",
       "GRP_24     289\n",
       "GRP_12     257\n",
       "GRP_9      252\n",
       "GRP_2      241\n",
       "GRP_19     215\n",
       "GRP_3      200\n",
       "GRP_6      184\n",
       "GRP_13     145\n",
       "GRP_10     140\n",
       "GRP_5      129\n",
       "GRP_14     118\n",
       "GRP_25     116\n",
       "GRP_33     107\n",
       "GRP_4      100\n",
       "GRP_29      97\n",
       "GRP_18      88\n",
       "GRP_16      85\n",
       "GRP_17      81\n",
       "Name: Assignment group, dtype: int64"
      ]
     },
     "execution_count": 14,
     "metadata": {},
     "output_type": "execute_result"
    }
   ],
   "source": [
    "incident_details['Assignment group'].value_counts().nlargest(20)"
   ]
  },
  {
   "cell_type": "markdown",
   "id": "e19750af",
   "metadata": {},
   "source": [
    "- Top 20 assignment group contributes close to 7000 records\n",
    "- In which, GRP_0 contributes close to 4000 records\n",
    "- Dataset is highly imbalanced"
   ]
  },
  {
   "cell_type": "code",
   "execution_count": 15,
   "id": "a5de4373",
   "metadata": {},
   "outputs": [
    {
     "data": {
      "text/plain": [
       "GRP_35    1\n",
       "GRP_67    1\n",
       "GRP_73    1\n",
       "GRP_70    1\n",
       "GRP_61    1\n",
       "GRP_64    1\n",
       "GRP_72    2\n",
       "GRP_69    2\n",
       "GRP_57    2\n",
       "GRP_54    2\n",
       "GRP_71    2\n",
       "GRP_63    3\n",
       "GRP_38    3\n",
       "GRP_58    3\n",
       "GRP_68    3\n",
       "GRP_56    3\n",
       "GRP_66    4\n",
       "GRP_32    4\n",
       "GRP_43    5\n",
       "GRP_46    6\n",
       "Name: Assignment group, dtype: int64"
      ]
     },
     "execution_count": 15,
     "metadata": {},
     "output_type": "execute_result"
    }
   ],
   "source": [
    "incident_details['Assignment group'].value_counts().nsmallest(20)"
   ]
  },
  {
   "cell_type": "code",
   "execution_count": 16,
   "id": "8b5ebbcd",
   "metadata": {},
   "outputs": [
    {
     "data": {
      "text/html": [
       "<div>\n",
       "<style scoped>\n",
       "    .dataframe tbody tr th:only-of-type {\n",
       "        vertical-align: middle;\n",
       "    }\n",
       "\n",
       "    .dataframe tbody tr th {\n",
       "        vertical-align: top;\n",
       "    }\n",
       "\n",
       "    .dataframe thead th {\n",
       "        text-align: right;\n",
       "    }\n",
       "</style>\n",
       "<table border=\"1\" class=\"dataframe\">\n",
       "  <thead>\n",
       "    <tr style=\"text-align: right;\">\n",
       "      <th></th>\n",
       "      <th>Category</th>\n",
       "      <th>Ticket Count</th>\n",
       "    </tr>\n",
       "  </thead>\n",
       "  <tbody>\n",
       "    <tr>\n",
       "      <th>0</th>\n",
       "      <td>1-25 ticket</td>\n",
       "      <td>34</td>\n",
       "    </tr>\n",
       "    <tr>\n",
       "      <th>1</th>\n",
       "      <td>26-50 ticket</td>\n",
       "      <td>13</td>\n",
       "    </tr>\n",
       "    <tr>\n",
       "      <th>2</th>\n",
       "      <td>51-100 ticket</td>\n",
       "      <td>8</td>\n",
       "    </tr>\n",
       "    <tr>\n",
       "      <th>3</th>\n",
       "      <td>&gt;100 ticket</td>\n",
       "      <td>15</td>\n",
       "    </tr>\n",
       "  </tbody>\n",
       "</table>\n",
       "</div>"
      ],
      "text/plain": [
       "         Category Ticket Count\n",
       "0     1-25 ticket           34\n",
       "1    26-50 ticket           13\n",
       "2   51-100 ticket            8\n",
       "3     >100 ticket           15"
      ]
     },
     "execution_count": 16,
     "metadata": {},
     "output_type": "execute_result"
    }
   ],
   "source": [
    "inc_ana = incident_details['Assignment group'].value_counts().reset_index()\n",
    "assignment_distribution = pd.DataFrame(columns=['Category','Ticket Count'])\n",
    "\n",
    "category1 = {'Category':'1-25 ticket','Ticket Count': len(inc_ana[(inc_ana['Assignment group'] < 25)])}\n",
    "category2 = {'Category':' 26-50 ticket','Ticket Count':len(inc_ana[(inc_ana['Assignment group'] > 26) & (inc_ana['Assignment group'] < 50)])}\n",
    "category3 = {'Category':' 51-100 ticket','Ticket Count':len(inc_ana[(inc_ana['Assignment group'] > 50) & (inc_ana['Assignment group'] < 100)])}\n",
    "category4 = {'Category':' >100 ticket', 'Ticket Count':len(inc_ana[(inc_ana['Assignment group'] > 100)])}\n",
    "\n",
    "assignment_distribution = assignment_distribution.append([category1, category2, category3, category4], ignore_index=True)\n",
    "\n",
    "assignment_distribution\n"
   ]
  },
  {
   "cell_type": "markdown",
   "id": "41720f6c",
   "metadata": {},
   "source": [
    "**Visualisation - Target Column**"
   ]
  },
  {
   "cell_type": "code",
   "execution_count": 17,
   "id": "78025961",
   "metadata": {},
   "outputs": [
    {
     "data": {
      "image/png": "[encoded data removed]",
      "text/plain": [
       "<Figure size 1440x360 with 1 Axes>"
      ]
     },
     "metadata": {
      "needs_background": "light"
     },
     "output_type": "display_data"
    }
   ],
   "source": [
    "plt.subplots(figsize=(20,5))\n",
    "sns.countplot(x='Assignment group', data=incident_details)\n",
    "plt.xlabel('Assignment Group') \n",
    "plt.ylabel('Count') \n",
    "plt.xticks(rotation=90)\n",
    "plt.title('Assignment Group Distribution')\n",
    "plt.show();"
   ]
  },
  {
   "cell_type": "code",
   "execution_count": 18,
   "id": "a79f0f3e",
   "metadata": {},
   "outputs": [
    {
     "data": {
      "image/png": "[encoded data removed]",
      "text/plain": [
       "<Figure size 1080x360 with 1 Axes>"
      ]
     },
     "metadata": {
      "needs_background": "light"
     },
     "output_type": "display_data"
    }
   ],
   "source": [
    "top_20 = incident_details['Assignment group'].value_counts().nlargest(20).reset_index()\n",
    "plt.subplots(figsize=(15,5))\n",
    "sns.barplot(x='index', y='Assignment group', data=top_20)\n",
    "plt.xlabel('Assignment Group') \n",
    "plt.ylabel('Count') \n",
    "plt.xticks(rotation=90)\n",
    "plt.title('Assignment Group - Top 20')\n",
    "plt.show();"
   ]
  },
  {
   "cell_type": "code",
   "execution_count": 19,
   "id": "c912d317",
   "metadata": {},
   "outputs": [
    {
     "data": {
      "image/png": "[encoded data removed]",
      "text/plain": [
       "<Figure size 1080x360 with 1 Axes>"
      ]
     },
     "metadata": {
      "needs_background": "light"
     },
     "output_type": "display_data"
    }
   ],
   "source": [
    "smallest_40 = incident_details['Assignment group'].value_counts().nsmallest(40).reset_index()\n",
    "plt.subplots(figsize=(15,5))\n",
    "sns.barplot(x='index', y='Assignment group', data=smallest_40)\n",
    "plt.xlabel('Assignment Group') \n",
    "plt.ylabel('Count') \n",
    "plt.xticks(rotation=90)\n",
    "plt.title('Assignment Group - Smallest 40')\n",
    "plt.show();"
   ]
  },
  {
   "cell_type": "code",
   "execution_count": 20,
   "id": "ecaf36e6",
   "metadata": {},
   "outputs": [
    {
     "data": {
      "image/png": "[encoded data removed]",
      "text/plain": [
       "<Figure size 720x360 with 1 Axes>"
      ]
     },
     "metadata": {},
     "output_type": "display_data"
    }
   ],
   "source": [
    "plt.subplots(figsize=(10,5))\n",
    "plt.pie(assignment_distribution['Ticket Count'], labels=assignment_distribution['Category'], autopct='%1.1f%%')\n",
    "plt.title('Assignment Group distribution')\n",
    "plt.show();"
   ]
  },
  {
   "cell_type": "code",
   "execution_count": 21,
   "id": "65cfee93",
   "metadata": {},
   "outputs": [
    {
     "data": {
      "text/plain": [
       "['GRP_29',\n",
       " 'GRP_18',\n",
       " 'GRP_16',\n",
       " 'GRP_17',\n",
       " 'GRP_31',\n",
       " 'GRP_7',\n",
       " 'GRP_34',\n",
       " 'GRP_26',\n",
       " 'GRP_40',\n",
       " 'GRP_28',\n",
       " 'GRP_41',\n",
       " 'GRP_15',\n",
       " 'GRP_30',\n",
       " 'GRP_42',\n",
       " 'GRP_20',\n",
       " 'GRP_45',\n",
       " 'GRP_1',\n",
       " 'GRP_22',\n",
       " 'GRP_11',\n",
       " 'GRP_21',\n",
       " 'GRP_47',\n",
       " 'GRP_62',\n",
       " 'GRP_48',\n",
       " 'GRP_23',\n",
       " 'GRP_60',\n",
       " 'GRP_39',\n",
       " 'GRP_27',\n",
       " 'GRP_37',\n",
       " 'GRP_36',\n",
       " 'GRP_44',\n",
       " 'GRP_50',\n",
       " 'GRP_53',\n",
       " 'GRP_65',\n",
       " 'GRP_52',\n",
       " 'GRP_55',\n",
       " 'GRP_51',\n",
       " 'GRP_46',\n",
       " 'GRP_49',\n",
       " 'GRP_59',\n",
       " 'GRP_43',\n",
       " 'GRP_66',\n",
       " 'GRP_32',\n",
       " 'GRP_63',\n",
       " 'GRP_38',\n",
       " 'GRP_58',\n",
       " 'GRP_68',\n",
       " 'GRP_56',\n",
       " 'GRP_72',\n",
       " 'GRP_69',\n",
       " 'GRP_57',\n",
       " 'GRP_54',\n",
       " 'GRP_71',\n",
       " 'GRP_35',\n",
       " 'GRP_67',\n",
       " 'GRP_73',\n",
       " 'GRP_70',\n",
       " 'GRP_61',\n",
       " 'GRP_64']"
      ]
     },
     "execution_count": 21,
     "metadata": {},
     "output_type": "execute_result"
    }
   ],
   "source": [
    "inc_ass_25 = inc_ass_count.loc[inc_ass_count['Assignment group'] < 99, 'index'].tolist()\n",
    "inc_ass_25"
   ]
  },
  {
   "cell_type": "code",
   "execution_count": 22,
   "id": "ed0bfd31",
   "metadata": {},
   "outputs": [],
   "source": [
    "incident_details.loc[incident_details['Assignment group'].isin(inc_ass_25), 'Assignment group'] = 'GRP_76'"
   ]
  },
  {
   "cell_type": "code",
   "execution_count": 23,
   "id": "5acbce16",
   "metadata": {},
   "outputs": [
    {
     "data": {
      "text/plain": [
       "array(['GRP_0', 'GRP_76', 'GRP_3', 'GRP_4', 'GRP_5', 'GRP_6', 'GRP_8',\n",
       "       'GRP_9', 'GRP_10', 'GRP_12', 'GRP_13', 'GRP_14', 'GRP_19', 'GRP_2',\n",
       "       'GRP_24', 'GRP_25', 'GRP_33'], dtype=object)"
      ]
     },
     "execution_count": 23,
     "metadata": {},
     "output_type": "execute_result"
    }
   ],
   "source": [
    "incident_details['Assignment group'].unique()"
   ]
  },
  {
   "cell_type": "code",
   "execution_count": 24,
   "id": "b37e682a",
   "metadata": {},
   "outputs": [
    {
     "data": {
      "text/plain": [
       "GRP_0     3968\n",
       "GRP_76    1369\n",
       "GRP_8      661\n",
       "GRP_24     289\n",
       "GRP_12     257\n",
       "GRP_9      252\n",
       "GRP_2      241\n",
       "GRP_19     215\n",
       "GRP_3      200\n",
       "GRP_6      184\n",
       "GRP_13     145\n",
       "GRP_10     140\n",
       "GRP_5      129\n",
       "GRP_14     118\n",
       "GRP_25     116\n",
       "GRP_33     107\n",
       "GRP_4      100\n",
       "Name: Assignment group, dtype: int64"
      ]
     },
     "execution_count": 24,
     "metadata": {},
     "output_type": "execute_result"
    }
   ],
   "source": [
    "incident_details['Assignment group'].value_counts().nlargest(20)"
   ]
  },
  {
   "cell_type": "code",
   "execution_count": 25,
   "id": "c584dd3d",
   "metadata": {},
   "outputs": [
    {
     "data": {
      "image/png": "[encoded data removed]",
      "text/plain": [
       "<Figure size 1080x360 with 1 Axes>"
      ]
     },
     "metadata": {
      "needs_background": "light"
     },
     "output_type": "display_data"
    }
   ],
   "source": [
    "rest = incident_details['Assignment group'].value_counts().reset_index()\n",
    "plt.subplots(figsize=(15,5))\n",
    "sns.barplot(x='index', y='Assignment group', data=rest)\n",
    "plt.xlabel('Assignment Group') \n",
    "plt.ylabel('Count') \n",
    "plt.xticks(rotation=90)\n",
    "plt.title('Assignment Group - Post Merger')\n",
    "plt.show();"
   ]
  },
  {
   "cell_type": "code",
   "execution_count": 26,
   "id": "0e858c72",
   "metadata": {},
   "outputs": [],
   "source": [
    "incident_txt_prep = incident_details.copy()"
   ]
  },
  {
   "cell_type": "code",
   "execution_count": 27,
   "id": "d1de4674",
   "metadata": {},
   "outputs": [
    {
     "data": {
      "text/html": [
       "<div>\n",
       "<style scoped>\n",
       "    .dataframe tbody tr th:only-of-type {\n",
       "        vertical-align: middle;\n",
       "    }\n",
       "\n",
       "    .dataframe tbody tr th {\n",
       "        vertical-align: top;\n",
       "    }\n",
       "\n",
       "    .dataframe thead th {\n",
       "        text-align: right;\n",
       "    }\n",
       "</style>\n",
       "<table border=\"1\" class=\"dataframe\">\n",
       "  <thead>\n",
       "    <tr style=\"text-align: right;\">\n",
       "      <th></th>\n",
       "      <th>Short description</th>\n",
       "      <th>Description</th>\n",
       "      <th>Caller</th>\n",
       "      <th>Assignment group</th>\n",
       "      <th>Combined Description</th>\n",
       "    </tr>\n",
       "  </thead>\n",
       "  <tbody>\n",
       "    <tr>\n",
       "      <th>0</th>\n",
       "      <td>login issue</td>\n",
       "      <td>-verified user details.(employee# &amp; manager na...</td>\n",
       "      <td>spxjnwir pjlcoqds</td>\n",
       "      <td>GRP_0</td>\n",
       "      <td>login issue -verified user details.(employee# ...</td>\n",
       "    </tr>\n",
       "    <tr>\n",
       "      <th>1</th>\n",
       "      <td>outlook</td>\n",
       "      <td>_x000D_\\n_x000D_\\nreceived from: hmjdrvpb.komu...</td>\n",
       "      <td>hmjdrvpb komuaywn</td>\n",
       "      <td>GRP_0</td>\n",
       "      <td>outlook _x000D_\\n_x000D_\\nreceived from: hmjdr...</td>\n",
       "    </tr>\n",
       "    <tr>\n",
       "      <th>2</th>\n",
       "      <td>cant log in to vpn</td>\n",
       "      <td>_x000D_\\n_x000D_\\nreceived from: eylqgodm.ybqk...</td>\n",
       "      <td>eylqgodm ybqkwiam</td>\n",
       "      <td>GRP_0</td>\n",
       "      <td>cant log in to vpn _x000D_\\n_x000D_\\nreceived ...</td>\n",
       "    </tr>\n",
       "    <tr>\n",
       "      <th>3</th>\n",
       "      <td>unable to access hr_tool page</td>\n",
       "      <td>unable to access hr_tool page</td>\n",
       "      <td>xbkucsvz gcpydteq</td>\n",
       "      <td>GRP_0</td>\n",
       "      <td>unable to access hr_tool page unable to access...</td>\n",
       "    </tr>\n",
       "    <tr>\n",
       "      <th>4</th>\n",
       "      <td>skype error</td>\n",
       "      <td>skype error</td>\n",
       "      <td>owlgqjme qhcozdfx</td>\n",
       "      <td>GRP_0</td>\n",
       "      <td>skype error  skype error</td>\n",
       "    </tr>\n",
       "    <tr>\n",
       "      <th>5</th>\n",
       "      <td>unable to log in to engineering tool and skype</td>\n",
       "      <td>unable to log in to engineering tool and skype</td>\n",
       "      <td>eflahbxn ltdgrvkz</td>\n",
       "      <td>GRP_0</td>\n",
       "      <td>unable to log in to engineering tool and skype...</td>\n",
       "    </tr>\n",
       "    <tr>\n",
       "      <th>6</th>\n",
       "      <td>event: critical:HostName_221.company.com the v...</td>\n",
       "      <td>event: critical:HostName_221.company.com the v...</td>\n",
       "      <td>jyoqwxhz clhxsoqy</td>\n",
       "      <td>GRP_76</td>\n",
       "      <td>event: critical:HostName_221.company.com the v...</td>\n",
       "    </tr>\n",
       "    <tr>\n",
       "      <th>7</th>\n",
       "      <td>ticket_no1550391- employment status - new non-...</td>\n",
       "      <td>ticket_no1550391- employment status - new non-...</td>\n",
       "      <td>eqzibjhw ymebpoih</td>\n",
       "      <td>GRP_0</td>\n",
       "      <td>ticket_no1550391- employment status - new non-...</td>\n",
       "    </tr>\n",
       "    <tr>\n",
       "      <th>8</th>\n",
       "      <td>unable to disable add ins on outlook</td>\n",
       "      <td>unable to disable add ins on outlook</td>\n",
       "      <td>mdbegvct dbvichlg</td>\n",
       "      <td>GRP_0</td>\n",
       "      <td>unable to disable add ins on outlook unable to...</td>\n",
       "    </tr>\n",
       "    <tr>\n",
       "      <th>9</th>\n",
       "      <td>ticket update on inplant_874773</td>\n",
       "      <td>ticket update on inplant_874773</td>\n",
       "      <td>fumkcsji sarmtlhy</td>\n",
       "      <td>GRP_0</td>\n",
       "      <td>ticket update on inplant_874773 ticket update ...</td>\n",
       "    </tr>\n",
       "  </tbody>\n",
       "</table>\n",
       "</div>"
      ],
      "text/plain": [
       "                                   Short description  \\\n",
       "0                                        login issue   \n",
       "1                                            outlook   \n",
       "2                                 cant log in to vpn   \n",
       "3                      unable to access hr_tool page   \n",
       "4                                       skype error    \n",
       "5     unable to log in to engineering tool and skype   \n",
       "6  event: critical:HostName_221.company.com the v...   \n",
       "7  ticket_no1550391- employment status - new non-...   \n",
       "8               unable to disable add ins on outlook   \n",
       "9                    ticket update on inplant_874773   \n",
       "\n",
       "                                         Description             Caller  \\\n",
       "0  -verified user details.(employee# & manager na...  spxjnwir pjlcoqds   \n",
       "1  _x000D_\\n_x000D_\\nreceived from: hmjdrvpb.komu...  hmjdrvpb komuaywn   \n",
       "2  _x000D_\\n_x000D_\\nreceived from: eylqgodm.ybqk...  eylqgodm ybqkwiam   \n",
       "3                      unable to access hr_tool page  xbkucsvz gcpydteq   \n",
       "4                                       skype error   owlgqjme qhcozdfx   \n",
       "5     unable to log in to engineering tool and skype  eflahbxn ltdgrvkz   \n",
       "6  event: critical:HostName_221.company.com the v...  jyoqwxhz clhxsoqy   \n",
       "7  ticket_no1550391- employment status - new non-...  eqzibjhw ymebpoih   \n",
       "8               unable to disable add ins on outlook  mdbegvct dbvichlg   \n",
       "9                    ticket update on inplant_874773  fumkcsji sarmtlhy   \n",
       "\n",
       "  Assignment group                               Combined Description  \n",
       "0            GRP_0  login issue -verified user details.(employee# ...  \n",
       "1            GRP_0  outlook _x000D_\\n_x000D_\\nreceived from: hmjdr...  \n",
       "2            GRP_0  cant log in to vpn _x000D_\\n_x000D_\\nreceived ...  \n",
       "3            GRP_0  unable to access hr_tool page unable to access...  \n",
       "4            GRP_0                          skype error  skype error   \n",
       "5            GRP_0  unable to log in to engineering tool and skype...  \n",
       "6           GRP_76  event: critical:HostName_221.company.com the v...  \n",
       "7            GRP_0  ticket_no1550391- employment status - new non-...  \n",
       "8            GRP_0  unable to disable add ins on outlook unable to...  \n",
       "9            GRP_0  ticket update on inplant_874773 ticket update ...  "
      ]
     },
     "execution_count": 27,
     "metadata": {},
     "output_type": "execute_result"
    }
   ],
   "source": [
    "incident_txt_prep['Combined Description'] = incident_txt_prep['Short description'] + ' '  + incident_txt_prep['Description']\n",
    "incident_txt_prep.head(10)"
   ]
  },
  {
   "cell_type": "code",
   "execution_count": 28,
   "id": "f20ee007",
   "metadata": {},
   "outputs": [
    {
     "data": {
      "text/html": [
       "<div>\n",
       "<style scoped>\n",
       "    .dataframe tbody tr th:only-of-type {\n",
       "        vertical-align: middle;\n",
       "    }\n",
       "\n",
       "    .dataframe tbody tr th {\n",
       "        vertical-align: top;\n",
       "    }\n",
       "\n",
       "    .dataframe thead th {\n",
       "        text-align: right;\n",
       "    }\n",
       "</style>\n",
       "<table border=\"1\" class=\"dataframe\">\n",
       "  <thead>\n",
       "    <tr style=\"text-align: right;\">\n",
       "      <th></th>\n",
       "      <th>Assignment group</th>\n",
       "      <th>Combined Description</th>\n",
       "    </tr>\n",
       "  </thead>\n",
       "  <tbody>\n",
       "    <tr>\n",
       "      <th>0</th>\n",
       "      <td>GRP_0</td>\n",
       "      <td>login issue -verified user details.(employee# ...</td>\n",
       "    </tr>\n",
       "    <tr>\n",
       "      <th>1</th>\n",
       "      <td>GRP_0</td>\n",
       "      <td>outlook _x000D_\\n_x000D_\\nreceived from: hmjdr...</td>\n",
       "    </tr>\n",
       "    <tr>\n",
       "      <th>2</th>\n",
       "      <td>GRP_0</td>\n",
       "      <td>cant log in to vpn _x000D_\\n_x000D_\\nreceived ...</td>\n",
       "    </tr>\n",
       "    <tr>\n",
       "      <th>3</th>\n",
       "      <td>GRP_0</td>\n",
       "      <td>unable to access hr_tool page unable to access...</td>\n",
       "    </tr>\n",
       "    <tr>\n",
       "      <th>4</th>\n",
       "      <td>GRP_0</td>\n",
       "      <td>skype error  skype error</td>\n",
       "    </tr>\n",
       "  </tbody>\n",
       "</table>\n",
       "</div>"
      ],
      "text/plain": [
       "  Assignment group                               Combined Description\n",
       "0            GRP_0  login issue -verified user details.(employee# ...\n",
       "1            GRP_0  outlook _x000D_\\n_x000D_\\nreceived from: hmjdr...\n",
       "2            GRP_0  cant log in to vpn _x000D_\\n_x000D_\\nreceived ...\n",
       "3            GRP_0  unable to access hr_tool page unable to access...\n",
       "4            GRP_0                          skype error  skype error "
      ]
     },
     "execution_count": 28,
     "metadata": {},
     "output_type": "execute_result"
    }
   ],
   "source": [
    "incident_txt_prep.drop(columns=['Short description', 'Description', 'Caller'], inplace=True)\n",
    "incident_txt_prep.head()"
   ]
  },
  {
   "cell_type": "markdown",
   "id": "9fbf7786",
   "metadata": {},
   "source": [
    "**Text Preprocessing**"
   ]
  },
  {
   "cell_type": "code",
   "execution_count": 29,
   "id": "2f74ef40",
   "metadata": {},
   "outputs": [],
   "source": [
    "from langdetect import detect"
   ]
  },
  {
   "cell_type": "code",
   "execution_count": 30,
   "id": "257ed11b",
   "metadata": {},
   "outputs": [],
   "source": [
    "def lang_det(input_df):\n",
    "    try:\n",
    "        return detect(input_df)\n",
    "    except:\n",
    "        return 'no lang'"
   ]
  },
  {
   "cell_type": "code",
   "execution_count": 31,
   "id": "f6aae2f8",
   "metadata": {},
   "outputs": [],
   "source": [
    "incident_txt_prep['language'] = incident_txt_prep['Combined Description'].apply(lang_det)"
   ]
  },
  {
   "cell_type": "code",
   "execution_count": 32,
   "id": "c262afbb",
   "metadata": {},
   "outputs": [
    {
     "data": {
      "text/plain": [
       "en    7071\n",
       "de     377\n",
       "af     279\n",
       "fr     128\n",
       "it     123\n",
       "sv      78\n",
       "no      77\n",
       "da      69\n",
       "nl      68\n",
       "ca      52\n",
       "es      49\n",
       "pl      27\n",
       "pt      24\n",
       "ro      10\n",
       "cy       9\n",
       "tl       9\n",
       "sq       8\n",
       "sl       5\n",
       "tr       5\n",
       "et       4\n",
       "hr       4\n",
       "id       4\n",
       "fi       4\n",
       "lt       2\n",
       "cs       2\n",
       "sk       2\n",
       "so       1\n",
       "Name: language, dtype: int64"
      ]
     },
     "execution_count": 32,
     "metadata": {},
     "output_type": "execute_result"
    }
   ],
   "source": [
    "incident_txt_prep['language'].value_counts()"
   ]
  },
  {
   "cell_type": "code",
   "execution_count": 33,
   "id": "c48a06b6",
   "metadata": {},
   "outputs": [],
   "source": [
    "from langdetect import PROFILES_DIRECTORY"
   ]
  },
  {
   "cell_type": "code",
   "execution_count": 34,
   "id": "80464bbd",
   "metadata": {},
   "outputs": [
    {
     "data": {
      "text/plain": [
       "'D:\\\\Anaconda3\\\\lib\\\\site-packages\\\\langdetect\\\\profiles'"
      ]
     },
     "execution_count": 34,
     "metadata": {},
     "output_type": "execute_result"
    }
   ],
   "source": [
    "PROFILES_DIRECTORY"
   ]
  },
  {
   "cell_type": "code",
   "execution_count": null,
   "id": "f7c0f153",
   "metadata": {},
   "outputs": [],
   "source": [
    "from polyglot"
   ]
  },
  {
   "cell_type": "code",
   "execution_count": null,
   "id": "3cfb7ed6",
   "metadata": {},
   "outputs": [],
   "source": []
  }
 ],
 "metadata": {
  "kernelspec": {
   "display_name": "Python 3",
   "language": "python",
   "name": "python3"
  },
  "language_info": {
   "codemirror_mode": {
    "name": "ipython",
    "version": 3
   },
   "file_extension": ".py",
   "mimetype": "text/x-python",
   "name": "python",
   "nbconvert_exporter": "python",
   "pygments_lexer": "ipython3",
   "version": "3.8.8"
  }
 },
 "nbformat": 4,
 "nbformat_minor": 5
}
